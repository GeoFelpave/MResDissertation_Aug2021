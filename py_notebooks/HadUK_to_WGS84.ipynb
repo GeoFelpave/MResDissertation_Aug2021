{
 "cells": [
  {
   "cell_type": "markdown",
   "metadata": {},
   "source": [
    "# Modified HadUK-Grid from planar to geodesic coordenates - NEW VERSION\n",
    "<div class=\"alert alert-block alert-warning\">\n",
    " <p style=\"color:black\"> <b>Caution: This should only be run BEFORE creating the indices datasets and AFTER making sure there are not values under 1mm in the rainfall variable</b></p>\n",
    "</div>\n",
    "\n",
    "This process is as follows:\n",
    "\n",
    "* All HadUK-Grid files are merge into one nc file - rainfall_hadukgrid_uk_5km_day_2001-2019.nc\n",
    "* The following variables need to be removed using NCO:\n",
    "    - `ncks -C -O -x -v projection_y_coordinate_bnds,projection_x_coordinate_bnds rainfall_hadukgrid_uk_5km_day_2001-2019.nc rainfall_hadukgrid_uk_5km_day_2001-2019_step1.nc`\n",
    "    - `ncks -C -x -v latitude,longitude,time_bnds rainfall_hadukgrid_uk_5km_day_2001-2019_step1.nc rainfall_hadukgrid_uk_5km_day_OSGB36_2001-2019.nc`\n",
    "    \n",
    "## Reproject data using rioxarray"
   ]
  },
  {
   "cell_type": "code",
   "execution_count": null,
   "metadata": {},
   "outputs": [],
   "source": [
    "import rioxarray\n",
    "from pyproj import CRS\n",
    "\n",
    "# Set directory to read and for outputs\n",
    "fldr_src = Path('/mnt/d/MRes_dataset/search_data/haduk_cedac_uk_xclim/')\n",
    "fldr_out = Path('/mnt/d/MRes_dataset/active_data/106_precp')\n",
    "\n",
    "# Create list with files\n",
    "fls_lst = fldr_src.glob('**/*.nc')\n",
    "\n",
    "# Read HadUK-Grid data and merge all into one file\n",
    "dataset_HADUK = xr.open_mfdataset(paths=fls_lst, combine='by_coords', parallel=True)\n",
    "dataset_HADUK.to_netcdf(Path(fldr_out / 'rainfall_hadukgrid_uk_5km_day_2001-2019.nc'))\n",
    "\n",
    "print('---------')\n",
    "print('Use NCO to modify the rainfall_hadukgrid_uk_5km_day_2001-2019.nc file before processiding to next step')\n",
    "print('---------')\n",
    "print('File saved')"
   ]
  },
  {
   "cell_type": "markdown",
   "metadata": {},
   "source": [
    "## Transforming the dataset using rioxarray"
   ]
  },
  {
   "cell_type": "code",
   "execution_count": null,
   "metadata": {},
   "outputs": [],
   "source": [
    "import rioxarray\n",
    "from pyproj import CRS\n",
    "\n",
    "# # Reading data with the CRS information \n",
    "xds = xr.open_dataset(Path(fldr_out / 'rainfall_hadukgrid_uk_5km_day_OSGB36_2001-2019.nc'))\n",
    "\n",
    "# # Read the CRS information from the transver_mercator variable\n",
    "xds.rio.set_spatial_dims(x_dim=\"projection_x_coordinate\", y_dim=\"projection_y_coordinate\", inplace=True)\n",
    "xds.rio.write_crs(\"epsg:27700\", inplace=True)\n",
    "\n",
    "# Transform the data\n",
    "xds_lonlat = xds.rio.reproject(\"EPSG:4326\")\n",
    "\n",
    "# Remove grid_mapping before saving as it causes an issue\n",
    "xds_lonlat.rainfall.attrs.pop('grid_mapping')\n",
    "\n",
    "# # Save data in WGS84\n",
    "xds_lonlat.to_netcdf(Path(fldr_out/ 'rainfall_hadukgrid_uk_5km_day_WGS1984_2001-2019.nc'))\n",
    "\n",
    "print('---------')\n",
    "print('The data has been transformed')\n",
    "print('---------')"
   ]
  },
  {
   "cell_type": "markdown",
   "metadata": {},
   "source": [
    "## Setting transformed dataset for Xclim"
   ]
  },
  {
   "cell_type": "markdown",
   "metadata": {},
   "source": [
    "<div class=\"alert alert-block alert-warning\">\n",
    " <p style=\"color:black\"> <b>Caution: Before running xclim the transformed data attribute need changing, so coordinates show as latitude and longitude</b></p>\n",
    "</div>"
   ]
  },
  {
   "cell_type": "code",
   "execution_count": null,
   "metadata": {},
   "outputs": [],
   "source": [
    "# Read transformed file\n",
    "dsin = Dataset(Path(fldr_out/ 'rainfall_hadukgrid_uk_5km_day_WGS84_2001-2019.nc'))\n",
    "\n",
    "# Output file\n",
    "dsout = Dataset(Path(fldr_out / 'rainfall_hadukgrid_uk_5km_day_WGS84LatLon_2001-2019.nc'), mode='w',format='NETCDF3_CLASSIC')\n",
    "\n",
    "# Create dimensions\n",
    "for dimname,dim in f.dimensions.items():\n",
    "    dsout.createDimension(dimname,len(dim))\n",
    "\n",
    "# Copy variables\n",
    "# transform_mercator is dropped as it is needed.\n",
    "for v_name, varin in dsin.variables.items():\n",
    "    if v_name == 'x':\n",
    "        outVar = dsout.createVariable('longitude', varin.datatype, ('longitude',))\n",
    "        # Copy variable attributes\n",
    "        outVar.setncatts({k: varin.getncattr(k) for k in varin.ncattrs()})\n",
    "        outVar[:] = varin[:]\n",
    "    if v_name == 'y':\n",
    "        outVar = dsout.createVariable('latitude', varin.datatype, ('latitude',))\n",
    "        # Copy variable attributes\n",
    "        outVar.setncatts({k: varin.getncattr(k) for k in varin.ncattrs()})\n",
    "        outVar[:] = varin[:]\n",
    "    if v_name == 'rainfall':\n",
    "        outVar = dsout.createVariable(v_name, varin.datatype, ('time', 'latitude', 'longitude'))\n",
    "        # Copy variable attributes\n",
    "        outVar.setncatts({k: varin.getncattr(k) for k in varin.ncattrs()})\n",
    "        outVar[:] = varin[:]\n",
    "    if v_name == 'time':\n",
    "        outVar = dsout.createVariable(v_name, np.float64, varin.dimensions)\n",
    "        # Copy variable attributes\n",
    "        outVar.setncatts({k: varin.getncattr(k) for k in varin.ncattrs()})\n",
    "        outVar[:] = varin[:]\n",
    "\n",
    "# close the output file to\n",
    "dsout.close()\n",
    "\n",
    "print('---------')\n",
    "print('The transformed data is already to go')\n",
    "print('---------')"
   ]
  }
 ],
 "metadata": {
  "kernelspec": {
   "display_name": "Python 3",
   "language": "python",
   "name": "python3"
  },
  "language_info": {
   "codemirror_mode": {
    "name": "ipython",
    "version": 3
   },
   "file_extension": ".py",
   "mimetype": "text/x-python",
   "name": "python",
   "nbconvert_exporter": "python",
   "pygments_lexer": "ipython3",
   "version": "3.8.3"
  }
 },
 "nbformat": 4,
 "nbformat_minor": 5
}
