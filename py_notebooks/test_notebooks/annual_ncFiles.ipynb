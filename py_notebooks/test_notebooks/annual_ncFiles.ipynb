{
 "cells": [
  {
   "cell_type": "markdown",
   "id": "48f8e070-1a68-4857-bde2-8611fc7f5fb1",
   "metadata": {},
   "source": [
    "# Create annual nc files"
   ]
  },
  {
   "cell_type": "code",
   "execution_count": 1,
   "id": "840b2638-a18d-4701-909b-039a2288137f",
   "metadata": {},
   "outputs": [
    {
     "data": {
      "text/plain": [
       "'==============================================================================\\n\\n Title          :annual_ncFiles.ipynb\\n Description    :Combine nc files to create yearly datasets ready to run in climpact\\n Author         :LF Velasquez - MA\\n Date           :May 20 2021\\n Version        :1.0\\n Usage          :annual_ncFiles.ipynb\\n Notes          : \\n python version :3.8.5\\n\\n=============================================================================='"
      ]
     },
     "execution_count": 1,
     "metadata": {},
     "output_type": "execute_result"
    }
   ],
   "source": [
    "\"\"\"==============================================================================\n",
    "\n",
    " Title          :annual_ncFiles.ipynb\n",
    " Description    :Combine nc files to create yearly datasets ready to run in climpact\n",
    " Author         :LF Velasquez - MA\n",
    " Date           :May 20 2021\n",
    " Version        :1.0\n",
    " Usage          :annual_ncFiles.ipynb\n",
    " Notes          : \n",
    " python version :3.8.5\n",
    "\n",
    "==============================================================================\"\"\""
   ]
  },
  {
   "cell_type": "markdown",
   "id": "26db7e28-ee66-48a2-9200-b3aea5deea24",
   "metadata": {},
   "source": [
    "**Importing Modules**"
   ]
  },
  {
   "cell_type": "code",
   "execution_count": 1,
   "id": "37f7c1b8-1bec-49a1-8f05-88bdecdc6edf",
   "metadata": {},
   "outputs": [],
   "source": [
    "from pathlib import Path\n",
    "import xarray as xr\n",
    "import datetime\n",
    "from dateutil.relativedelta import relativedelta"
   ]
  },
  {
   "cell_type": "markdown",
   "id": "1f406cce-9848-44d0-b31e-e61dbad7e863",
   "metadata": {},
   "source": [
    "**Adding data directory**"
   ]
  },
  {
   "cell_type": "code",
   "execution_count": 12,
   "id": "3337c521-b169-43f7-af9a-b6e96234892a",
   "metadata": {},
   "outputs": [],
   "source": [
    "FILEPATH = '/mnt/d/MRes_dataset/search_data/gpm_imerg_nasa_uk_test_v2/'\n",
    "YEARPATH = '/mnt/d/MRes_dataset/search_data/gpm_imerg_nasa_uk_year/'\n",
    "# uncomment below to check if it is the right path\n",
    "# !ls {FILEPATH}\n",
    "\n",
    "# # # Load data\n",
    "# dataset = xr.load_dataset(FILEPATH + '/filename')\n",
    "# dataset"
   ]
  },
  {
   "cell_type": "markdown",
   "id": "799bea64-b209-462f-b86e-fbbbb706ff71",
   "metadata": {},
   "source": [
    "**Combining datasets**"
   ]
  },
  {
   "cell_type": "code",
   "execution_count": 13,
   "id": "2b031079-f6b0-4950-a478-656e6cf5f9d2",
   "metadata": {},
   "outputs": [],
   "source": [
    "# Create list of wild cards\n",
    "wc_lst = []\n",
    "\n",
    "# Create date objects\n",
    "begin_year = datetime.date(2001,1,1)\n",
    "# end_year = datetime.date(2019, 12, 31)\n",
    "end_year = datetime.date(2001, 12, 31)\n",
    "one_year = relativedelta(years=1)\n",
    "\n",
    "# Append wild card to list\n",
    "next_year = begin_year\n",
    "while next_year <= end_year:\n",
    "    wild_card = '3B-DAY.MS.MRG.3IMERG.' + f\"{next_year:%Y}\" + '*-S000000-E235959.V06.nc4.nc4'\n",
    "    wc_lst.append(wild_card)\n",
    "    next_year += one_year"
   ]
  },
  {
   "cell_type": "code",
   "execution_count": 14,
   "id": "ffe6a58a-58d5-4e41-8d3e-4c4bfe7b1aaf",
   "metadata": {},
   "outputs": [
    {
     "name": "stdout",
     "output_type": "stream",
     "text": [
      "--------------\n",
      "Currently doing...: 2001\n",
      "--------------\n",
      "--------------\n",
      "Check files here: /mnt/d/MRes_dataset/search_data/gpm_imerg_nasa_uk_year/\n",
      "--------------\n",
      "--------------\n"
     ]
    }
   ],
   "source": [
    "# Combine daily datasets by years\n",
    "\n",
    "for wc in wc_lst:\n",
    "    year = wc.split('.')[4].split('*')[0]\n",
    "    print ('--------------')\n",
    "    print ('Currently doing...: {}'.format(year))\n",
    "    tmp_dataset = xr.open_mfdataset(FILEPATH + wc,combine = 'by_coords', concat_dim=\"time\")\n",
    "#     tmp_dataset = xr.open_mfdataset(FILEPATH + wc)\n",
    "    tmp_dataset.to_netcdf(YEARPATH + 'daily_imerg_precipitation_' + year + '.nc')\n",
    "    break\n",
    "    \n",
    "print ('--------------')\n",
    "print ('--------------')\n",
    "print ('Check files here: {}'.format(YEARPATH))\n",
    "print ('--------------')\n",
    "print ('--------------')\n",
    "\n",
    "# dataset_year = xr.open_mfdataset(FILEPATH + '3B-DAY.MS.MRG.3IMERG.2000*-S000000-E235959.V06.nc4.nc4',combine = 'by_coords', concat_dim=\"time\")\n",
    "# # Save as new yearly nc file\n",
    "# dataset_year.to_netcdf(YEARPATH + 'precip_combined_2000.nc')"
   ]
  }
 ],
 "metadata": {
  "kernelspec": {
   "display_name": "Python 3",
   "language": "python",
   "name": "python3"
  },
  "language_info": {
   "codemirror_mode": {
    "name": "ipython",
    "version": 3
   },
   "file_extension": ".py",
   "mimetype": "text/x-python",
   "name": "python",
   "nbconvert_exporter": "python",
   "pygments_lexer": "ipython3",
   "version": "3.8.5"
  }
 },
 "nbformat": 4,
 "nbformat_minor": 5
}
