{
 "cells": [
  {
   "cell_type": "markdown",
   "id": "307f8e0d-a08f-4cfe-8673-8c1586d2bebf",
   "metadata": {},
   "source": [
    "# Donwloading GPM-IMERG Data\n",
    "\n",
    "This notebook was created to download IMERG data using the data end points from NASA’s Earth Science Data Systems.\n",
    "\n",
    "---\n",
    "\n",
    " - Author:          \n",
    "                    Luis F Patino Velasquez - MA\n",
    " - Date:            \n",
    "                    Jun 2020\n",
    " - Version:         \n",
    "                    1.0\n",
    " - Notes:            \n",
    "                    Files downloaded are in netCDF format,\n",
    "                    This code is based on the code developed by Peter Smith, last modified by Srikanth Davu\n",
    "                    https://wiki.earthdata.nasa.gov/display/EL/How+To+Access+Data+With+Python\n",
    " - Jupyter version: \n",
    "                    jupyter core     : 4.7.1\n",
    "                    jupyter-notebook : 6.4.0\n",
    "                    qtconsole        : 5.1.1\n",
    "                    ipython          : 7.25.0\n",
    "                    ipykernel        : 6.0.3\n",
    "                    jupyter client   : 6.1.12\n",
    "                    jupyter lab      : 3.0.16\n",
    "                    nbconvert        : 6.1.0\n",
    "                    ipywidgets       : 7.6.3\n",
    "                    nbformat         : 5.1.3\n",
    "                    traitlets        : 5.0.5\n",
    " - Python version:  \n",
    "                    3.8.5 \n",
    "\n",
    "---"
   ]
  },
  {
   "cell_type": "markdown",
   "id": "94fc233f-4d37-4fe8-830a-53d12234c46c",
   "metadata": {},
   "source": [
    "**Importing Modules**"
   ]
  },
  {
   "cell_type": "code",
   "execution_count": null,
   "id": "98be0be9-48d7-4bad-9b92-d09231bb888f",
   "metadata": {},
   "outputs": [],
   "source": [
    "from http.cookiejar import CookieJar\n",
    "from urllib.parse import urlencode\n",
    "from pathlib import Path\n",
    "import urllib.request as urllib2\n",
    "import requests\n",
    "import datetime\n",
    "import xarray as xr\n",
    "import pydap"
   ]
  },
  {
   "cell_type": "markdown",
   "id": "3df7995a-ccfb-4acb-b05b-d48b43ac2eec",
   "metadata": {},
   "source": [
    "**Adding data directory**"
   ]
  },
  {
   "cell_type": "code",
   "execution_count": null,
   "id": "b0ade66a-8da7-4744-a46e-12de5cc60957",
   "metadata": {},
   "outputs": [],
   "source": [
    "FILEPATH = Path('/mnt/d/MRes_dataset/search_data/gpm_imerg_nasa_uk/') # path for Earthdata data"
   ]
  },
  {
   "cell_type": "markdown",
   "id": "6e6b3f52-76d5-4daf-90b2-b8f1f87073ba",
   "metadata": {},
   "source": [
    "**Functions**"
   ]
  },
  {
   "cell_type": "code",
   "execution_count": 2,
   "id": "35fda2dd-e3ac-4c47-8790-af4ce96012fe",
   "metadata": {},
   "outputs": [],
   "source": [
    "def data_download(data_url, file_2save):\n",
    "    ''' download netCDF file from end point using the data URL\n",
    "        :data_url: url string\n",
    "        :file_2save: string including path and file name with extension\n",
    "    '''\n",
    "    result = requests.get(data_url)\n",
    "    try:\n",
    "        result.raise_for_status()\n",
    "        f = open(file_2save,'wb')\n",
    "        f.write(result.content)\n",
    "        f.close()\n",
    "        print('contents of URL written to: {} '.format(file_2save))\n",
    "    except:\n",
    "        print('requests.get() returned an error code: {}'.format(str(result.status_code)))"
   ]
  },
  {
   "cell_type": "markdown",
   "id": "222542bd-7d24-4ab1-a8a7-da18ada69325",
   "metadata": {},
   "source": [
    "**Set Earthdata information**"
   ]
  },
  {
   "cell_type": "code",
   "execution_count": null,
   "id": "5edf8c6d-aedd-41db-98ff-9de1c40747c3",
   "metadata": {},
   "outputs": [],
   "source": [
    "# Credential\n",
    "\n",
    "# Earth data\n",
    "username = \"\"\n",
    "password = \"\"\n",
    "\n",
    "# Create password manager for 401 response\n",
    "password_manager = urllib2.HTTPPasswordMgrWithDefaultRealm()\n",
    "password_manager.add_password(None, \"https://urs.earthdata.nasa.gov\", username, password) #Earthdata url\n",
    "\n",
    "# Create cookie jar to store cookies. This will avoid having to authenticate user everytime data is requested\n",
    "cookie_jar = CookieJar()\n",
    "\n",
    "# Install handlers\n",
    "opener = urllib2.build_opener(\n",
    "    urllib2.HTTPBasicAuthHandler(password_manager),\n",
    "    #urllib2.HTTPHandler(debuglevel=1),    # Uncomment these two lines to see\n",
    "    #urllib2.HTTPSHandler(debuglevel=1),   # details of the requests/responses\n",
    "    urllib2.HTTPCookieProcessor(cookie_jar))\n",
    "urllib2.install_opener(opener)\n"
   ]
  },
  {
   "cell_type": "markdown",
   "id": "d42cfe11-7b80-4615-9e1d-eb9e952cf514",
   "metadata": {},
   "source": [
    "# Working with Earthdata data\n",
    "**Create list with dates**"
   ]
  },
  {
   "cell_type": "code",
   "execution_count": null,
   "id": "3ff2a9e2-def3-4f24-848c-81d7d1914719",
   "metadata": {},
   "outputs": [],
   "source": [
    "# Create dates list ready to pass in URL\n",
    "\n",
    "# Set loop to go through years - from 2000 to 2019\n",
    "dates_lst = []\n",
    "year = 2001\n",
    "\n",
    "# create date objects\n",
    "begin_year = datetime.date(year, 1, 1)\n",
    "end_year = datetime.date(2019, 12, 31)\n",
    "one_day = datetime.timedelta(days=1)\n",
    "\n",
    "next_day = begin_year\n",
    "for day in range(0, 366):  # includes potential leap year\n",
    "    while next_day <= end_year:\n",
    "        if next_day > datetime.date(2000, 5, 31): # gpm imerg data only start in 2000/06\n",
    "            dates_lst.append(next_day)\n",
    "        # increment date object by one day\n",
    "        next_day += one_day"
   ]
  },
  {
   "cell_type": "markdown",
   "id": "ecb43836-b46f-4e88-9011-7033f52972f2",
   "metadata": {},
   "source": [
    "**Working with the date list to request the data**\n"
   ]
  },
  {
   "cell_type": "code",
   "execution_count": null,
   "id": "dbd8e3e2-0674-4bef-b5c3-4d10b76f3ce8",
   "metadata": {},
   "outputs": [],
   "source": [
    "# set list for url that can be reached\n",
    "for date in dates_lst:\n",
    "    url_p1 = 'https://gpm1.gesdisc.eosdis.nasa.gov/opendap/GPM_L3/GPM_3IMERGDF.06/'\n",
    "    url_p2 = '3B-DAY.MS.MRG.3IMERG.'\n",
    "    url_p3 = '-S000000-E235959.V06.nc4.nc4'\n",
    "    url_p4 = '?precipitationCal[0:0][1709:1819][1389:1509],time,lon[1709:1819],lat[1389:1509]'\n",
    "    \n",
    "    # Use f-strings to get padded date and month\n",
    "    url = url_p1 + f\"{date:%Y}\" + '/' + f\"{date:%m}\" + '/' + url_p2 + f\"{date:%Y%m%d}\" + url_p3 + url_p4\n",
    "    print(url)\n",
    "    \n",
    "    # Create file to save data in local drive\n",
    "    FILENAME = url_p2 + f\"{date:%Y%m%d}\" + url_p3\n",
    "    SAVEFILE = Path(FILEPATH / FILENAME)\n",
    "    \n",
    "    # Run request using function\n",
    "    data_download(url, SAVEFILE)\n",
    "    \n",
    "print ('--------------')\n",
    "print ('--------------')\n",
    "print ('Check files here: {}'.format(FILEPATH ))\n",
    "print ('--------------')\n",
    "print ('--------------')\n",
    "print ('This is the URL to check')"
   ]
  },
  {
   "cell_type": "markdown",
   "id": "69da2145-48c9-443b-833e-ba3c875b4110",
   "metadata": {},
   "source": [
    "## Data download check\n",
    "\n",
    "- The code below will only need to be run after doing the download of the data\n",
    "- The code checks the files downloaded against the files that are expected based on the years\n",
    "- If the file has not been downloaded, the code will try to download the code again\n"
   ]
  },
  {
   "cell_type": "code",
   "execution_count": null,
   "id": "03d4a08a-1244-496f-9752-f0ee0212e348",
   "metadata": {},
   "outputs": [],
   "source": [
    "# Create list of file names\n",
    "name_lst = []\n",
    "for date in dates_lst:\n",
    "    part1 = '3B-DAY.MS.MRG.3IMERG.'\n",
    "    part2 = '-S000000-E235959.V06.nc4.nc4'\n",
    "    file_name = part1 + f\"{date:%Y%m%d}\" + part2\n",
    "    name_lst.append(file_name)\n",
    "\n",
    "# Create list of file names in folder\n",
    "file_lst = []\n",
    "python_files = FILEPATH.glob('**/*.nc4') \n",
    "for pf in python_files:\n",
    "    file_lst.append(pf.parts[6])\n",
    "    \n",
    "# Compare the two list and get missing values\n",
    "# the main list is name_lst as it contains names of expected files\n",
    "missing = list(sorted(set(name_lst) - set(file_lst)))\n",
    "print ('There are {} missing files in the folder \\n'.format(len(missing)))\n",
    "\n",
    "# print ('--------------')\n",
    "# print ('--------------')\n",
    "print ('Trying to download the files again')\n",
    "# print ('--------------')\n",
    "# print ('--------------')\n",
    "\n",
    "# set list for url that can be reached\n",
    "'3B-DAY.MS.MRG.3IMERG.20000604-S000000-E235959.V06.nc4.nc4'\n",
    "\n",
    "if len(missing) > 0:\n",
    "    fd\n",
    "    url_toCheck = []\n",
    "    for file_name in missing:\n",
    "        url_p1 = 'https://gpm1.gesdisc.eosdis.nasa.gov/opendap/GPM_L3/GPM_3IMERGDF.06/'\n",
    "        url_p2 = file_name\n",
    "        url_p3 = '?precipitationCal[0:0][1709:1819][1389:1509],time_bnds[0:0][0:1],time,lon[1709:1819],lat[1389:1509]'\n",
    "\n",
    "        # Get year and month from the file name\n",
    "        year = file_name.split('.')[4][:4]\n",
    "        month = file_name.split('.')[4][:6][-2:]\n",
    "\n",
    "    #     build URL\n",
    "        url = url_p1 + year + '/' + month + '/' + file_name + url_p3\n",
    "        print(url)\n",
    "\n",
    "        # Create file to save data in local drive\n",
    "        FILENAME = file_name\n",
    "        SAVEFILE = Path(FILEPATH / FILENAME)\n",
    "\n",
    "        # Run request using function\n",
    "        data_nasa(url, SAVEFILE)\n",
    "\n",
    "    print ('--------------')\n",
    "    print ('--------------')\n",
    "    print ('Check files here: {}'.format(FILEPATH ))\n",
    "    print ('--------------')\n",
    "    print ('--------------')\n",
    "else:\n",
    "    print ('--------------')\n",
    "    print ('--------------')\n",
    "    print ('All the files have been downloaded!')\n",
    "    print ('--------------')\n",
    "    print ('--------------')\n",
    "    \n"
   ]
  }
 ],
 "metadata": {
  "kernelspec": {
   "display_name": "Python 3 (ipykernel)",
   "language": "python",
   "name": "python3"
  },
  "language_info": {
   "codemirror_mode": {
    "name": "ipython",
    "version": 3
   },
   "file_extension": ".py",
   "mimetype": "text/x-python",
   "name": "python",
   "nbconvert_exporter": "python",
   "pygments_lexer": "ipython3",
   "version": "3.8.5"
  }
 },
 "nbformat": 4,
 "nbformat_minor": 5
}
